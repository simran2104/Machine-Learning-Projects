{
  "nbformat": 4,
  "nbformat_minor": 0,
  "metadata": {
    "colab": {
      "name": "WORKSHOP1 ML.ipynb",
      "provenance": [],
      "collapsed_sections": []
    },
    "kernelspec": {
      "name": "python3",
      "display_name": "Python 3"
    }
  },
  "cells": [
    {
      "cell_type": "code",
      "metadata": {
        "id": "GVPh9_xcJO86",
        "colab_type": "code",
        "colab": {}
      },
      "source": [
        ""
      ],
      "execution_count": 0,
      "outputs": []
    },
    {
      "cell_type": "code",
      "metadata": {
        "id": "ISAKT_ubMfBq",
        "colab_type": "code",
        "colab": {}
      },
      "source": [
        "from sklearn.linear_model import LinearRegression\n",
        "from sklearn.model_selection import train_test_split\n",
        "from sklearn.model_selection import cross_val_score\n",
        "import pandas as pd\n",
        "import numpy as np\n",
        "import matplotlib.pyplot as plt\n",
        "\n"
      ],
      "execution_count": 0,
      "outputs": []
    },
    {
      "cell_type": "code",
      "metadata": {
        "id": "hfspIL1wd-d8",
        "colab_type": "code",
        "colab": {
          "base_uri": "https://localhost:8080/",
          "height": 131
        },
        "outputId": "3272e09a-2b76-4334-f3ec-088e6992ff0f"
      },
      "source": [
        "from google.colab import drive\n",
        "drive.mount('/content/drive')"
      ],
      "execution_count": 5,
      "outputs": [
        {
          "output_type": "stream",
          "text": [
            "Go to this URL in a browser: https://accounts.google.com/o/oauth2/auth?client_id=947318989803-6bn6qk8qdgf4n4g3pfee6491hc0brc4i.apps.googleusercontent.com&redirect_uri=urn%3aietf%3awg%3aoauth%3a2.0%3aoob&response_type=code&scope=email%20https%3a%2f%2fwww.googleapis.com%2fauth%2fdocs.test%20https%3a%2f%2fwww.googleapis.com%2fauth%2fdrive%20https%3a%2f%2fwww.googleapis.com%2fauth%2fdrive.photos.readonly%20https%3a%2f%2fwww.googleapis.com%2fauth%2fpeopleapi.readonly\n",
            "\n",
            "Enter your authorization code:\n",
            "··········\n",
            "Mounted at /content/drive\n"
          ],
          "name": "stdout"
        }
      ]
    },
    {
      "cell_type": "code",
      "metadata": {
        "id": "-o25r_lReNWk",
        "colab_type": "code",
        "colab": {
          "base_uri": "https://localhost:8080/",
          "height": 36
        },
        "outputId": "c25cdf5c-15a3-49c8-fabf-4c077cf8a97c"
      },
      "source": [
        "%cd /content/drive/My Drive"
      ],
      "execution_count": 6,
      "outputs": [
        {
          "output_type": "stream",
          "text": [
            "/content/drive/My Drive\n"
          ],
          "name": "stdout"
        }
      ]
    },
    {
      "cell_type": "code",
      "metadata": {
        "id": "TqUR5vssesCc",
        "colab_type": "code",
        "colab": {
          "base_uri": "https://localhost:8080/",
          "height": 36
        },
        "outputId": "f0ef7288-01d5-4519-99b7-f310f3f0d752"
      },
      "source": [
        "%cd /content/drive/My Drive/Air Pollution Project"
      ],
      "execution_count": 7,
      "outputs": [
        {
          "output_type": "stream",
          "text": [
            "/content/drive/My Drive/Air Pollution Project\n"
          ],
          "name": "stdout"
        }
      ]
    },
    {
      "cell_type": "code",
      "metadata": {
        "id": "YfgZ3NuneCho",
        "colab_type": "code",
        "colab": {}
      },
      "source": [
        "dfx = pd.read_csv(\"./Train.csv\")\n",
        "dfxx = pd.read_csv(\"./Test.csv\")"
      ],
      "execution_count": 0,
      "outputs": []
    },
    {
      "cell_type": "code",
      "metadata": {
        "id": "OcR-Y11ge0yV",
        "colab_type": "code",
        "colab": {}
      },
      "source": [
        "X = dfx.values #PANDAS CSV TO NUMPY\n",
        "XT = dfxx.values #PANDAS CSV TO NUMPY\n",
        "#TRAINING FILES\n",
        "X_train = X[:,:-1]\n",
        "Y_train = X[:,-1]\n",
        "#TEST FILES\n",
        "X_test = XT"
      ],
      "execution_count": 0,
      "outputs": []
    },
    {
      "cell_type": "code",
      "metadata": {
        "id": "Ut1AKeQvfqxs",
        "colab_type": "code",
        "colab": {
          "base_uri": "https://localhost:8080/",
          "height": 363
        },
        "outputId": "85c28aa8-5608-4d9d-d090-9e0acf096fd1"
      },
      "source": [
        "dfx.head(10)"
      ],
      "execution_count": 10,
      "outputs": [
        {
          "output_type": "execute_result",
          "data": {
            "text/html": [
              "<div>\n",
              "<style scoped>\n",
              "    .dataframe tbody tr th:only-of-type {\n",
              "        vertical-align: middle;\n",
              "    }\n",
              "\n",
              "    .dataframe tbody tr th {\n",
              "        vertical-align: top;\n",
              "    }\n",
              "\n",
              "    .dataframe thead th {\n",
              "        text-align: right;\n",
              "    }\n",
              "</style>\n",
              "<table border=\"1\" class=\"dataframe\">\n",
              "  <thead>\n",
              "    <tr style=\"text-align: right;\">\n",
              "      <th></th>\n",
              "      <th>feature_1</th>\n",
              "      <th>feature_2</th>\n",
              "      <th>feature_3</th>\n",
              "      <th>feature_4</th>\n",
              "      <th>feature_5</th>\n",
              "      <th>target</th>\n",
              "    </tr>\n",
              "  </thead>\n",
              "  <tbody>\n",
              "    <tr>\n",
              "      <th>0</th>\n",
              "      <td>0.293416</td>\n",
              "      <td>-0.945599</td>\n",
              "      <td>-0.421105</td>\n",
              "      <td>0.406816</td>\n",
              "      <td>0.525662</td>\n",
              "      <td>-82.154667</td>\n",
              "    </tr>\n",
              "    <tr>\n",
              "      <th>1</th>\n",
              "      <td>-0.836084</td>\n",
              "      <td>-0.189228</td>\n",
              "      <td>-0.776403</td>\n",
              "      <td>-1.053831</td>\n",
              "      <td>0.597997</td>\n",
              "      <td>-48.897960</td>\n",
              "    </tr>\n",
              "    <tr>\n",
              "      <th>2</th>\n",
              "      <td>0.236425</td>\n",
              "      <td>0.132836</td>\n",
              "      <td>-0.147723</td>\n",
              "      <td>0.699854</td>\n",
              "      <td>-0.187364</td>\n",
              "      <td>77.270371</td>\n",
              "    </tr>\n",
              "    <tr>\n",
              "      <th>3</th>\n",
              "      <td>0.175312</td>\n",
              "      <td>0.143194</td>\n",
              "      <td>-0.581111</td>\n",
              "      <td>-0.122107</td>\n",
              "      <td>-1.292168</td>\n",
              "      <td>-2.988581</td>\n",
              "    </tr>\n",
              "    <tr>\n",
              "      <th>4</th>\n",
              "      <td>-1.693011</td>\n",
              "      <td>0.542712</td>\n",
              "      <td>-2.798729</td>\n",
              "      <td>-0.686723</td>\n",
              "      <td>1.244077</td>\n",
              "      <td>-37.596722</td>\n",
              "    </tr>\n",
              "    <tr>\n",
              "      <th>5</th>\n",
              "      <td>-1.055329</td>\n",
              "      <td>-0.874807</td>\n",
              "      <td>0.580753</td>\n",
              "      <td>-0.773541</td>\n",
              "      <td>1.070888</td>\n",
              "      <td>-122.405263</td>\n",
              "    </tr>\n",
              "    <tr>\n",
              "      <th>6</th>\n",
              "      <td>-0.824707</td>\n",
              "      <td>0.499427</td>\n",
              "      <td>1.293281</td>\n",
              "      <td>-0.240671</td>\n",
              "      <td>-0.419136</td>\n",
              "      <td>1.413741</td>\n",
              "    </tr>\n",
              "    <tr>\n",
              "      <th>7</th>\n",
              "      <td>-1.936602</td>\n",
              "      <td>0.583708</td>\n",
              "      <td>-0.521135</td>\n",
              "      <td>-0.631724</td>\n",
              "      <td>-1.030729</td>\n",
              "      <td>-13.306543</td>\n",
              "    </tr>\n",
              "    <tr>\n",
              "      <th>8</th>\n",
              "      <td>0.647431</td>\n",
              "      <td>-0.265401</td>\n",
              "      <td>0.327080</td>\n",
              "      <td>0.457829</td>\n",
              "      <td>-1.757592</td>\n",
              "      <td>-25.754698</td>\n",
              "    </tr>\n",
              "    <tr>\n",
              "      <th>9</th>\n",
              "      <td>-1.133029</td>\n",
              "      <td>-0.839132</td>\n",
              "      <td>-0.547809</td>\n",
              "      <td>0.551768</td>\n",
              "      <td>-0.639173</td>\n",
              "      <td>-57.077754</td>\n",
              "    </tr>\n",
              "  </tbody>\n",
              "</table>\n",
              "</div>"
            ],
            "text/plain": [
              "   feature_1  feature_2  feature_3  feature_4  feature_5      target\n",
              "0   0.293416  -0.945599  -0.421105   0.406816   0.525662  -82.154667\n",
              "1  -0.836084  -0.189228  -0.776403  -1.053831   0.597997  -48.897960\n",
              "2   0.236425   0.132836  -0.147723   0.699854  -0.187364   77.270371\n",
              "3   0.175312   0.143194  -0.581111  -0.122107  -1.292168   -2.988581\n",
              "4  -1.693011   0.542712  -2.798729  -0.686723   1.244077  -37.596722\n",
              "5  -1.055329  -0.874807   0.580753  -0.773541   1.070888 -122.405263\n",
              "6  -0.824707   0.499427   1.293281  -0.240671  -0.419136    1.413741\n",
              "7  -1.936602   0.583708  -0.521135  -0.631724  -1.030729  -13.306543\n",
              "8   0.647431  -0.265401   0.327080   0.457829  -1.757592  -25.754698\n",
              "9  -1.133029  -0.839132  -0.547809   0.551768  -0.639173  -57.077754"
            ]
          },
          "metadata": {
            "tags": []
          },
          "execution_count": 10
        }
      ]
    },
    {
      "cell_type": "code",
      "metadata": {
        "id": "aATwN1JCgKvJ",
        "colab_type": "code",
        "colab": {
          "base_uri": "https://localhost:8080/",
          "height": 363
        },
        "outputId": "7be00ba1-bbe0-4fa6-a15a-e11d00442799"
      },
      "source": [
        "dfxx.head(10)"
      ],
      "execution_count": 11,
      "outputs": [
        {
          "output_type": "execute_result",
          "data": {
            "text/html": [
              "<div>\n",
              "<style scoped>\n",
              "    .dataframe tbody tr th:only-of-type {\n",
              "        vertical-align: middle;\n",
              "    }\n",
              "\n",
              "    .dataframe tbody tr th {\n",
              "        vertical-align: top;\n",
              "    }\n",
              "\n",
              "    .dataframe thead th {\n",
              "        text-align: right;\n",
              "    }\n",
              "</style>\n",
              "<table border=\"1\" class=\"dataframe\">\n",
              "  <thead>\n",
              "    <tr style=\"text-align: right;\">\n",
              "      <th></th>\n",
              "      <th>feature_1</th>\n",
              "      <th>feature_2</th>\n",
              "      <th>feature_3</th>\n",
              "      <th>feature_4</th>\n",
              "      <th>feature_5</th>\n",
              "    </tr>\n",
              "  </thead>\n",
              "  <tbody>\n",
              "    <tr>\n",
              "      <th>0</th>\n",
              "      <td>1.015254</td>\n",
              "      <td>2.076209</td>\n",
              "      <td>-0.266435</td>\n",
              "      <td>-2.418088</td>\n",
              "      <td>-0.980503</td>\n",
              "    </tr>\n",
              "    <tr>\n",
              "      <th>1</th>\n",
              "      <td>-0.375021</td>\n",
              "      <td>0.953185</td>\n",
              "      <td>0.626719</td>\n",
              "      <td>0.704406</td>\n",
              "      <td>-0.355489</td>\n",
              "    </tr>\n",
              "    <tr>\n",
              "      <th>2</th>\n",
              "      <td>-1.024452</td>\n",
              "      <td>0.962991</td>\n",
              "      <td>-0.407942</td>\n",
              "      <td>-1.861274</td>\n",
              "      <td>0.455201</td>\n",
              "    </tr>\n",
              "    <tr>\n",
              "      <th>3</th>\n",
              "      <td>-2.489841</td>\n",
              "      <td>0.544802</td>\n",
              "      <td>0.601219</td>\n",
              "      <td>-0.607021</td>\n",
              "      <td>-1.314286</td>\n",
              "    </tr>\n",
              "    <tr>\n",
              "      <th>4</th>\n",
              "      <td>-0.384675</td>\n",
              "      <td>-0.833624</td>\n",
              "      <td>1.358552</td>\n",
              "      <td>-0.547932</td>\n",
              "      <td>0.411925</td>\n",
              "    </tr>\n",
              "    <tr>\n",
              "      <th>5</th>\n",
              "      <td>0.041547</td>\n",
              "      <td>-0.276119</td>\n",
              "      <td>2.236500</td>\n",
              "      <td>-0.994213</td>\n",
              "      <td>0.334767</td>\n",
              "    </tr>\n",
              "    <tr>\n",
              "      <th>6</th>\n",
              "      <td>-1.021536</td>\n",
              "      <td>-1.067035</td>\n",
              "      <td>0.439741</td>\n",
              "      <td>1.063519</td>\n",
              "      <td>-1.038031</td>\n",
              "    </tr>\n",
              "    <tr>\n",
              "      <th>7</th>\n",
              "      <td>-1.472741</td>\n",
              "      <td>1.221807</td>\n",
              "      <td>-0.608505</td>\n",
              "      <td>-0.986382</td>\n",
              "      <td>-0.585592</td>\n",
              "    </tr>\n",
              "    <tr>\n",
              "      <th>8</th>\n",
              "      <td>-0.528322</td>\n",
              "      <td>1.504864</td>\n",
              "      <td>0.915932</td>\n",
              "      <td>0.825660</td>\n",
              "      <td>0.212006</td>\n",
              "    </tr>\n",
              "    <tr>\n",
              "      <th>9</th>\n",
              "      <td>1.226962</td>\n",
              "      <td>1.183349</td>\n",
              "      <td>-0.264360</td>\n",
              "      <td>0.583738</td>\n",
              "      <td>-0.855756</td>\n",
              "    </tr>\n",
              "  </tbody>\n",
              "</table>\n",
              "</div>"
            ],
            "text/plain": [
              "   feature_1  feature_2  feature_3  feature_4  feature_5\n",
              "0   1.015254   2.076209  -0.266435  -2.418088  -0.980503\n",
              "1  -0.375021   0.953185   0.626719   0.704406  -0.355489\n",
              "2  -1.024452   0.962991  -0.407942  -1.861274   0.455201\n",
              "3  -2.489841   0.544802   0.601219  -0.607021  -1.314286\n",
              "4  -0.384675  -0.833624   1.358552  -0.547932   0.411925\n",
              "5   0.041547  -0.276119   2.236500  -0.994213   0.334767\n",
              "6  -1.021536  -1.067035   0.439741   1.063519  -1.038031\n",
              "7  -1.472741   1.221807  -0.608505  -0.986382  -0.585592\n",
              "8  -0.528322   1.504864   0.915932   0.825660   0.212006\n",
              "9   1.226962   1.183349  -0.264360   0.583738  -0.855756"
            ]
          },
          "metadata": {
            "tags": []
          },
          "execution_count": 11
        }
      ]
    },
    {
      "cell_type": "code",
      "metadata": {
        "id": "13pAZy_zhRl4",
        "colab_type": "code",
        "colab": {
          "base_uri": "https://localhost:8080/",
          "height": 73
        },
        "outputId": "371de2fb-930c-4e66-fd7d-5a9b443c8ee8"
      },
      "source": [
        "print(X_train.shape)\n",
        "print(Y_train.shape)\n",
        "print(X_test.shape)"
      ],
      "execution_count": 24,
      "outputs": [
        {
          "output_type": "stream",
          "text": [
            "(1600, 5)\n",
            "(1600,)\n",
            "(400, 5)\n"
          ],
          "name": "stdout"
        }
      ]
    },
    {
      "cell_type": "code",
      "metadata": {
        "id": "nqB7vCiVgzwa",
        "colab_type": "code",
        "colab": {
          "base_uri": "https://localhost:8080/",
          "height": 428
        },
        "outputId": "6f05b6b7-8744-4317-8412-ee661beb3c28"
      },
      "source": [
        "print(X_train)\n",
        "print(Y_train)\n",
        "print(X_test)"
      ],
      "execution_count": 12,
      "outputs": [
        {
          "output_type": "stream",
          "text": [
            "[[ 0.29341624 -0.94559871 -0.42110515  0.40681602  0.52566183]\n",
            " [-0.83608408 -0.18922804 -0.77640262 -1.05383124  0.59799685]\n",
            " [ 0.23642511  0.13283602 -0.14772298  0.69985396 -0.18736416]\n",
            " ...\n",
            " [ 1.04417694 -0.89920649  1.73039905 -1.87105676  0.44251965]\n",
            " [-1.2691729  -0.00505216  1.85766873 -1.08036482  0.73633394]\n",
            " [-1.88400025 -0.84942743 -1.45227035  0.48861308  1.4595758 ]]\n",
            "[ -82.15466656  -48.89796018   77.2703707  ... -107.51050797  -47.34155781\n",
            " -115.93900296]\n",
            "[[ 1.01525387e+00  2.07620944e+00 -2.66434820e-01 -2.41808820e+00\n",
            "  -9.80502790e-01]\n",
            " [-3.75021204e-01  9.53184528e-01  6.26719138e-01  7.04405750e-01\n",
            "  -3.55489211e-01]\n",
            " [-1.02445225e+00  9.62991107e-01 -4.07942004e-01 -1.86127383e+00\n",
            "   4.55201351e-01]\n",
            " ...\n",
            " [ 5.54727647e-01  1.76824345e+00 -8.97787210e-01 -1.19366107e+00\n",
            "   3.40563374e-01]\n",
            " [-1.62717246e+00  8.56470994e-01 -5.65729519e-04  6.29386649e-01\n",
            "   4.53382144e-01]\n",
            " [ 1.39310499e-01  5.31597186e-01 -8.53107053e-01  3.16920076e-02\n",
            "   1.71489304e+00]]\n"
          ],
          "name": "stdout"
        }
      ]
    },
    {
      "cell_type": "markdown",
      "metadata": {
        "id": "vnXOZZInhf4B",
        "colab_type": "text"
      },
      "source": [
        "# VISUALIZATION"
      ]
    },
    {
      "cell_type": "code",
      "metadata": {
        "id": "K-4MJ-i9hkzG",
        "colab_type": "code",
        "colab": {}
      },
      "source": [
        "import matplotlib.pyplot as plt\n"
      ],
      "execution_count": 0,
      "outputs": []
    },
    {
      "cell_type": "code",
      "metadata": {
        "id": "MdZ9uaFShony",
        "colab_type": "code",
        "colab": {
          "base_uri": "https://localhost:8080/",
          "height": 284
        },
        "outputId": "362770de-7b89-4e31-8f35-171ff85685f5"
      },
      "source": [
        "plt.scatter(X_train[:,1],Y_train)\n"
      ],
      "execution_count": 14,
      "outputs": [
        {
          "output_type": "stream",
          "text": [
            "1600\n"
          ],
          "name": "stdout"
        },
        {
          "output_type": "display_data",
          "data": {
            "image/png": "[encoded data removed]",
            "text/plain": [
              "<Figure size 432x288 with 1 Axes>"
            ]
          },
          "metadata": {
            "tags": []
          }
        }
      ]
    },
    {
      "cell_type": "code",
      "metadata": {
        "id": "i_5wkpHoe4po",
        "colab_type": "code",
        "colab": {
          "base_uri": "https://localhost:8080/",
          "height": 73
        },
        "outputId": "fc708a0d-d499-4566-8b75-1ed624c83b60"
      },
      "source": [
        "# 1 create an object\n",
        "\n",
        "lr = LinearRegression(normalize=True) # can be any other Regression Model,\n",
        "# Standard Mean-Median normalize\n",
        "\n",
        "# 2 Training\n",
        "\n",
        "lr.fit(X_train, Y_train)\n",
        "\n",
        "# 3 Output Parameters\n",
        "\n",
        "print(lr.coef_)\n",
        "print(lr.intercept_)\n",
        "\n",
        "\n",
        "bias =lr.intercept_\n",
        "# print(lr.coef_[0])"
      ],
      "execution_count": 37,
      "outputs": [
        {
          "output_type": "stream",
          "text": [
            "[29.68187118 92.66247759  8.28062089 44.76773522  2.51916121]\n",
            "4.9909667355749585\n",
            "29.681871177619996\n"
          ],
          "name": "stdout"
        }
      ]
    },
    {
      "cell_type": "code",
      "metadata": {
        "id": "xym-GU7Kh9dk",
        "colab_type": "code",
        "colab": {}
      },
      "source": [
        ""
      ],
      "execution_count": 0,
      "outputs": []
    },
    {
      "cell_type": "code",
      "metadata": {
        "id": "NHtgYRfLfOef",
        "colab_type": "code",
        "colab": {
          "base_uri": "https://localhost:8080/",
          "height": 1000
        },
        "outputId": "7b1270f0-46ba-4fe2-bb03-89bcb460fc10"
      },
      "source": [
        "Y_predict =  lr.predict(X_test)\n",
        "print(Y_predict)"
      ],
      "execution_count": 16,
      "outputs": [
        {
          "output_type": "stream",
          "text": [
            "[ 1.14583689e+02  1.18012815e+02 -2.17398523e+01 -4.39368985e+01\n",
            " -9.59148984e+01 -4.45074240e+01 -7.55665260e+01  2.38208355e+01\n",
            "  1.73835284e+02  1.72849290e+02 -1.05402312e+02 -2.08020234e+01\n",
            " -3.91323777e+00  1.22999186e+02  4.03078842e+01  4.57128495e+01\n",
            " -1.89628491e+02  2.26125454e+01  1.16410473e+01  1.36342143e+02\n",
            "  6.49162552e+01 -6.19884884e+01 -1.08194679e+02 -7.41212747e+00\n",
            " -5.85239528e+01  1.18889777e+01  2.92376400e+01  1.07687579e+02\n",
            "  2.41468563e+01 -2.61050120e+01  1.10968076e+02 -4.48797096e+01\n",
            "  2.16799939e+02 -1.38606052e+01 -2.28603182e+02  1.54896021e+02\n",
            " -2.22583390e+00  1.27230344e+01 -3.08307877e+02  7.71107583e+01\n",
            " -8.12079177e+01 -2.06632925e+02 -2.38762881e+02  1.34757365e+02\n",
            " -7.37514777e+01  1.05463702e+02 -3.59074927e+00  2.06043839e+01\n",
            " -9.80187354e+01 -2.75169049e+01  1.08159001e+01 -1.74463534e+02\n",
            "  6.51557518e+01 -9.78063844e+01 -1.06151855e+02 -1.55942178e+02\n",
            "  6.25361032e+01  1.08628991e+02 -7.46103422e+01  4.17396380e+01\n",
            "  4.12242983e+01 -5.08043007e+01  1.64887262e+02  4.35635985e+01\n",
            "  5.69371401e+01  2.41211334e+01  8.16773838e+01 -1.80304316e+00\n",
            " -3.09735011e+00  1.80977272e+00 -2.39397288e+01  1.61874720e+02\n",
            " -4.10129899e+01  2.15560701e+01 -6.64305442e+01 -6.92710146e+01\n",
            "  3.69986169e+01 -1.60490354e+02 -1.76152673e+00  1.51309319e+02\n",
            " -3.80218327e+01 -1.20320688e+02 -1.94436345e+02  3.64493852e+01\n",
            "  1.46425717e+02  2.71429735e+02 -2.56998804e+02 -8.85512683e+01\n",
            "  7.62607756e+01 -8.99426453e+01 -4.94099238e+01  1.25588303e+02\n",
            " -1.63891147e+02 -1.16823341e+02  4.87104404e+01  9.81684061e+01\n",
            " -2.15581459e+02 -1.21288951e+02 -1.72346819e+02 -5.12594130e+01\n",
            "  1.27991975e+02 -8.38947004e+01 -3.93355710e+00 -1.45819362e+00\n",
            "  6.87157159e-02  8.07263279e+01  4.45095525e+01  9.24525606e+01\n",
            " -3.02937078e+01 -8.41409462e+01  3.86056584e+01  1.82850652e+01\n",
            "  1.17401859e+02  7.70873241e+00  7.35667699e+01  3.27250659e+01\n",
            " -1.42403921e+02  7.21277669e+00  2.10140289e+01 -2.27889032e+01\n",
            " -2.11981550e+01 -2.55771207e+02  2.67437280e+02  1.55039195e+02\n",
            "  1.43417317e+01  8.35124515e+01 -1.21442232e+01 -1.53097324e+02\n",
            "  1.12393595e+02 -3.20459035e+01 -2.16024763e+02  1.21057697e+02\n",
            " -2.98930911e+01 -8.68348066e+01  1.70724468e+02  3.91922861e+01\n",
            " -1.93300026e+01  6.17641657e+01  4.60812147e+01 -1.75029471e+02\n",
            "  1.30155609e+02 -7.28071887e+01  2.12090398e+02  1.35346245e+02\n",
            "  2.30097434e-01 -1.53844667e+02 -1.48709586e+01  1.33660081e+02\n",
            "  3.59628027e+01  5.77045854e+01 -4.36552160e+00 -4.31110458e+01\n",
            "  1.77217405e+01 -6.97051989e+01  2.85463704e+01  1.41994072e+02\n",
            "  3.46823799e+02  2.16924179e+02  2.78162767e+01 -3.77390624e+01\n",
            " -1.71397275e+02  1.28961678e+01  2.98607728e+02  7.56384285e+01\n",
            " -2.21090992e+01  1.55678418e+02 -1.55694869e+02  1.41408003e+02\n",
            "  1.71079952e+02 -4.69490852e+01  6.55777840e+01  9.72533920e+01\n",
            "  9.49267603e+01  3.18715034e+01  1.74337052e+02 -1.51155108e+02\n",
            " -9.43342846e+01 -1.69777111e+02 -1.82969143e+01 -1.07277796e+02\n",
            " -1.41266108e+01 -5.88120172e+01 -7.50832380e+01  6.73587271e+01\n",
            " -6.89703478e+01  8.88318631e+01 -5.70948342e+01 -1.09741255e+02\n",
            " -7.77833544e+01  1.85629304e+02 -4.14282206e+01  2.19635522e+02\n",
            " -5.66172847e+01 -8.36222525e+01  4.73238005e+01  6.26076531e-01\n",
            "  7.13821511e+01 -6.06639903e+01  2.09659127e+02 -1.38637055e+02\n",
            " -9.68478030e+01 -1.15583978e+02  2.49654102e+01  5.42952400e+01\n",
            "  1.50502762e+02  4.68983224e+01  9.19854966e+01  1.73013101e+02\n",
            " -2.70553209e+02 -1.73857397e+02 -1.05304177e+02 -8.25142264e+01\n",
            "  2.90802473e+01 -5.03321805e+01  7.80970160e+01 -2.01979151e+01\n",
            " -5.22163204e+01 -2.86307739e+01  6.56560573e+01  9.17307327e+01\n",
            " -8.26675481e+01 -1.48460926e+02  4.86777092e+01  2.38567646e+02\n",
            " -4.86998996e+01  1.57631321e+01 -6.19899690e+01  1.31485707e+01\n",
            "  1.00289512e+01  3.99646084e+01  1.15958615e+02  1.86669503e+01\n",
            " -1.07329942e+02  4.67695594e+01  1.00039959e+02 -8.87533938e+01\n",
            " -1.74694218e+02  1.69478147e+02  1.09352799e+02  6.20899161e+01\n",
            " -8.54397834e+00 -2.48564441e+01 -4.77166394e+01 -1.71011355e+02\n",
            " -6.50008843e+01 -2.77481804e+01 -1.71402598e+02 -2.82093276e+01\n",
            "  3.43188175e+01 -1.21610783e+02  1.74264374e+01 -7.73081929e-01\n",
            " -2.54182308e+02 -2.53529253e+02 -1.65878766e+02  4.67111041e+01\n",
            "  1.31612022e+02  7.07816400e+01  1.19875914e+02  9.38430102e+01\n",
            "  2.21288003e+01 -3.06145032e+02  1.87134675e+02 -1.30086933e+02\n",
            " -4.39017442e+01 -8.48294430e+01 -8.75139738e+01  1.37064206e+02\n",
            "  1.62663114e+02 -4.04306781e+01 -1.42315693e+02  1.13295414e+02\n",
            " -1.98162283e+01  8.81663869e+01  1.05992718e+02  2.53000074e+01\n",
            " -5.08837521e+01 -2.69524817e+01  3.01092851e+01  7.38938849e+01\n",
            "  2.83608166e+01 -1.28416330e+02 -1.52776301e+01 -1.10374437e+01\n",
            " -1.26794785e+02  1.62120112e+02 -1.00838833e+01 -1.33336316e+02\n",
            "  2.06450695e+02  4.88376450e+01  9.32013696e+01  3.13905901e+01\n",
            "  2.07038229e+02 -3.89970195e+01 -3.07289410e+01 -4.01751698e+01\n",
            "  5.23598108e+01 -6.24040563e+01  9.36382324e+01 -8.42914985e+01\n",
            " -9.55313843e+01 -2.43804958e+01 -8.98079279e+01 -2.31749011e+01\n",
            "  5.96648383e+01 -3.24313782e+01 -7.40946220e+01 -1.79732441e+02\n",
            " -1.63685038e+02  4.11883520e+01  8.02784922e+01  3.01577804e+02\n",
            "  1.28554327e+02  1.30832988e+02  5.25149254e+01 -2.12873997e+01\n",
            "  1.83267572e+02 -5.88757862e+01  1.29469597e+02  1.52655487e+02\n",
            " -3.33223694e+01 -2.02138568e+02 -9.88606794e+01  4.34312192e+00\n",
            " -4.48044373e+01 -3.78196288e+01  1.57823714e+02  1.34014627e+02\n",
            "  2.50245556e+01 -8.84390602e+01  1.87246379e+02 -6.54536233e+01\n",
            "  6.55402344e+01  8.03561819e+01  9.88057301e+01 -1.05254566e+02\n",
            "  1.14404232e+02 -3.49199136e+01  8.86094632e+01 -8.33695266e+01\n",
            " -2.02231114e+02  1.58221478e+02 -9.31481791e+01  6.59816387e+01\n",
            "  1.25513068e+02  3.07073555e+01 -1.75221035e+02 -3.37049758e+01\n",
            " -4.79594491e+01 -1.17026015e+02  1.22681657e+01 -8.81417151e+01\n",
            " -3.89840106e+01 -1.63414696e+02 -2.18465652e+02  5.51305633e+00\n",
            " -2.05947839e+02  1.85721065e+02 -9.25001204e+00  1.80720271e+01\n",
            "  3.27977960e+01  2.41092423e+02 -2.73852965e+01  1.34032356e+02\n",
            "  5.73968795e+01  1.05388596e+01 -8.65082599e+01 -9.65674714e+00\n",
            "  2.23430526e+02 -1.47055341e+01 -1.37921702e+02 -5.05147716e+01\n",
            " -9.36793798e+01  8.81628163e+00 -1.46040269e+01 -6.28519967e+01\n",
            " -1.64655543e+01 -1.72962640e+02 -1.22791775e+02  4.52738982e+01\n",
            " -3.73099314e+01 -1.57438494e+02  8.74983858e+01 -3.20726424e-01\n",
            "  1.33257842e+02 -4.71722088e+01  2.57466116e+00  1.74227519e+02\n",
            "  1.70930081e+02  4.64333575e+01 -2.67206510e+01  5.96322523e+01\n",
            "  1.11659113e+02 -3.65027668e+01 -6.91390527e+01 -8.19890004e+01\n",
            " -1.86032535e+02  1.25292336e+02  6.53698407e+01  5.70596907e+01]\n"
          ],
          "name": "stdout"
        }
      ]
    },
    {
      "cell_type": "code",
      "metadata": {
        "id": "WDpD-WTMfVKx",
        "colab_type": "code",
        "colab": {
          "base_uri": "https://localhost:8080/",
          "height": 54
        },
        "outputId": "2070cd51-2d21-44cf-c33e-7fddfc7083af"
      },
      "source": [
        "print(\"Training Score %.4f\" %lr.score(X_train, Y_train))\n",
        "print(\"Testing score %.4f \" %lr.score(X_test,Y_predict))"
      ],
      "execution_count": 17,
      "outputs": [
        {
          "output_type": "stream",
          "text": [
            "Training Score 0.9661\n",
            "Testing score 1.0000 \n"
          ],
          "name": "stdout"
        }
      ]
    },
    {
      "cell_type": "markdown",
      "metadata": {
        "id": "q3kjhHdOyBni",
        "colab_type": "text"
      },
      "source": [
        ""
      ]
    },
    {
      "cell_type": "code",
      "metadata": {
        "id": "vc1QoswEyCdQ",
        "colab_type": "code",
        "colab": {
          "base_uri": "https://localhost:8080/",
          "height": 284
        },
        "outputId": "4af28d12-340c-4936-974c-9ec30cbe5739"
      },
      "source": [
        "plt.scatter(X_train[:,1],Y_train)\n",
        "plt.scatter(X_test[:,1],Y_predict,c='orange')"
      ],
      "execution_count": 25,
      "outputs": [
        {
          "output_type": "execute_result",
          "data": {
            "text/plain": [
              "<matplotlib.collections.PathCollection at 0x7fdfd2a7ac18>"
            ]
          },
          "metadata": {
            "tags": []
          },
          "execution_count": 25
        },
        {
          "output_type": "display_data",
          "data": {
            "image/png": "[encoded data removed]",
            "text/plain": [
              "<Figure size 432x288 with 1 Axes>"
            ]
          },
          "metadata": {
            "tags": []
          }
        }
      ]
    },
    {
      "cell_type": "markdown",
      "metadata": {
        "id": "Budx2vwFyQXl",
        "colab_type": "text"
      },
      "source": [
        "### Plotting the Regression Line\n"
      ]
    },
    {
      "cell_type": "code",
      "metadata": {
        "id": "DxeacHnayUv9",
        "colab_type": "code",
        "colab": {
          "base_uri": "https://localhost:8080/",
          "height": 284
        },
        "outputId": "fdd38c46-a227-4a31-c201-ec48133aab48"
      },
      "source": [
        "plt.plot(X_test[:,1],Y_predict)\n",
        "plt.scatter(X_test[:,1],Y_predict,c=\"orange\")"
      ],
      "execution_count": 29,
      "outputs": [
        {
          "output_type": "execute_result",
          "data": {
            "text/plain": [
              "<matplotlib.collections.PathCollection at 0x7fdfd2590e48>"
            ]
          },
          "metadata": {
            "tags": []
          },
          "execution_count": 29
        },
        {
          "output_type": "display_data",
          "data": {
            "image/png": "[encoded data removed]",
            "text/plain": [
              "<Figure size 432x288 with 1 Axes>"
            ]
          },
          "metadata": {
            "tags": []
          }
        }
      ]
    },
    {
      "cell_type": "code",
      "metadata": {
        "id": "dVESTYpSzSmX",
        "colab_type": "code",
        "colab": {
          "base_uri": "https://localhost:8080/",
          "height": 284
        },
        "outputId": "3a70b36c-d922-4d59-e69e-7162b5a2046a"
      },
      "source": [
        "y_preds_1=X_test[:,1]*lr.coef_[0]+bias #Y=MX+C\n",
        "plt.plot(X_test[:,1],y_preds_1)"
      ],
      "execution_count": 40,
      "outputs": [
        {
          "output_type": "execute_result",
          "data": {
            "text/plain": [
              "[<matplotlib.lines.Line2D at 0x7fdfd24967b8>]"
            ]
          },
          "metadata": {
            "tags": []
          },
          "execution_count": 40
        },
        {
          "output_type": "display_data",
          "data": {
            "image/png": "[encoded data removed]",
            "text/plain": [
              "<Figure size 432x288 with 1 Axes>"
            ]
          },
          "metadata": {
            "tags": []
          }
        }
      ]
    },
    {
      "cell_type": "code",
      "metadata": {
        "id": "tgAF3Vum1J1C",
        "colab_type": "code",
        "colab": {
          "base_uri": "https://localhost:8080/",
          "height": 265
        },
        "outputId": "c58c6dc4-bc09-4bb5-8a74-f4f89bb2da99"
      },
      "source": [
        "plt.scatter(X_train[:,1],Y_train)\n",
        "plt.scatter(X_test[:,1],Y_predict,c='orange')\n",
        "plt.plot(X_test[:,1],y_preds_1,c='Red',linewidth=5) # MULTIVARIATE PROBLEM SO LINE NOT SO PROPER\n",
        "plt.show()"
      ],
      "execution_count": 43,
      "outputs": [
        {
          "output_type": "display_data",
          "data": {
            "image/png": "[encoded data removed]",
            "text/plain": [
              "<Figure size 432x288 with 1 Axes>"
            ]
          },
          "metadata": {
            "tags": []
          }
        }
      ]
    },
    {
      "cell_type": "code",
      "metadata": {
        "id": "qGLjJTscfXT6",
        "colab_type": "code",
        "colab": {
          "base_uri": "https://localhost:8080/",
          "height": 56
        },
        "outputId": "840797e6-ebd7-4192-acba-32b09dd2197b"
      },
      "source": [
        "iD = []\n",
        "for i in range(X_test.shape[0]):\n",
        "    iD.append(i)\n",
        "print(iD)"
      ],
      "execution_count": 18,
      "outputs": [
        {
          "output_type": "stream",
          "text": [
            "[0, 1, 2, 3, 4, 5, 6, 7, 8, 9, 10, 11, 12, 13, 14, 15, 16, 17, 18, 19, 20, 21, 22, 23, 24, 25, 26, 27, 28, 29, 30, 31, 32, 33, 34, 35, 36, 37, 38, 39, 40, 41, 42, 43, 44, 45, 46, 47, 48, 49, 50, 51, 52, 53, 54, 55, 56, 57, 58, 59, 60, 61, 62, 63, 64, 65, 66, 67, 68, 69, 70, 71, 72, 73, 74, 75, 76, 77, 78, 79, 80, 81, 82, 83, 84, 85, 86, 87, 88, 89, 90, 91, 92, 93, 94, 95, 96, 97, 98, 99, 100, 101, 102, 103, 104, 105, 106, 107, 108, 109, 110, 111, 112, 113, 114, 115, 116, 117, 118, 119, 120, 121, 122, 123, 124, 125, 126, 127, 128, 129, 130, 131, 132, 133, 134, 135, 136, 137, 138, 139, 140, 141, 142, 143, 144, 145, 146, 147, 148, 149, 150, 151, 152, 153, 154, 155, 156, 157, 158, 159, 160, 161, 162, 163, 164, 165, 166, 167, 168, 169, 170, 171, 172, 173, 174, 175, 176, 177, 178, 179, 180, 181, 182, 183, 184, 185, 186, 187, 188, 189, 190, 191, 192, 193, 194, 195, 196, 197, 198, 199, 200, 201, 202, 203, 204, 205, 206, 207, 208, 209, 210, 211, 212, 213, 214, 215, 216, 217, 218, 219, 220, 221, 222, 223, 224, 225, 226, 227, 228, 229, 230, 231, 232, 233, 234, 235, 236, 237, 238, 239, 240, 241, 242, 243, 244, 245, 246, 247, 248, 249, 250, 251, 252, 253, 254, 255, 256, 257, 258, 259, 260, 261, 262, 263, 264, 265, 266, 267, 268, 269, 270, 271, 272, 273, 274, 275, 276, 277, 278, 279, 280, 281, 282, 283, 284, 285, 286, 287, 288, 289, 290, 291, 292, 293, 294, 295, 296, 297, 298, 299, 300, 301, 302, 303, 304, 305, 306, 307, 308, 309, 310, 311, 312, 313, 314, 315, 316, 317, 318, 319, 320, 321, 322, 323, 324, 325, 326, 327, 328, 329, 330, 331, 332, 333, 334, 335, 336, 337, 338, 339, 340, 341, 342, 343, 344, 345, 346, 347, 348, 349, 350, 351, 352, 353, 354, 355, 356, 357, 358, 359, 360, 361, 362, 363, 364, 365, 366, 367, 368, 369, 370, 371, 372, 373, 374, 375, 376, 377, 378, 379, 380, 381, 382, 383, 384, 385, 386, 387, 388, 389, 390, 391, 392, 393, 394, 395, 396, 397, 398, 399]\n"
          ],
          "name": "stdout"
        }
      ]
    },
    {
      "cell_type": "code",
      "metadata": {
        "id": "qEO7LQ7rfayG",
        "colab_type": "code",
        "colab": {}
      },
      "source": [
        "# ids = pd.DataFrame(iD)\n",
        "# ids.to_csv('./predictions.csv' , index=True)\n",
        "# outcome = pd.DataFrame(Y_predict)\n",
        "# outcome.to_csv('./predictions.csv' , index=True)"
      ],
      "execution_count": 0,
      "outputs": []
    }
  ]
}