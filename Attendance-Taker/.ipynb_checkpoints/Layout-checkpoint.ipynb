{
 "cells": [
  {
   "cell_type": "markdown",
   "metadata": {},
   "source": [
    "### Importing Liraries"
   ]
  },
  {
   "cell_type": "code",
   "execution_count": 1,
   "metadata": {},
   "outputs": [],
   "source": [
    "from tkinter import *\n",
    "from openpyxl import *\n",
    "from tkinter import messagebox\n",
    "from tkinter import filedialog\n",
    "from tkinter import font\n",
    "import cv2\n",
    "import csv"
   ]
  },
  {
   "cell_type": "markdown",
   "metadata": {},
   "source": [
    "### Activating "
   ]
  },
  {
   "cell_type": "code",
   "execution_count": 2,
   "metadata": {},
   "outputs": [],
   "source": [
    "top = Tk()\n",
    "top.geometry(\"500x250\")\n",
    "top.title(\"Biometric Attendance\")\n",
    "C = Canvas(top,bg=\"#CCFFFF\", height=500, width=500)\n",
    "C.place(x=0,y=0)\n",
    "wb=load_workbook('Student_Details.xlsx')\n",
    "sheet = wb.active"
   ]
  },
  {
   "cell_type": "markdown",
   "metadata": {},
   "source": [
    "### Register Function"
   ]
  },
  {
   "cell_type": "code",
   "execution_count": 3,
   "metadata": {},
   "outputs": [],
   "source": [
    "def register():\n",
    "    def register_final():\n",
    "        def submit():\n",
    "            ans=messagebox.askyesno(\"Alert!!\",\"Are you sure to Submit your Details?\")\n",
    "            if ans==True:\n",
    "                current_row = sheet.max_row \n",
    "                current_column = sheet.max_column\n",
    "                sheet.cell(row=current_row + 1, column=1).value = str(e3.get())\n",
    "                sheet.cell(row=current_row + 1, column=2).value = str(e4.get())\n",
    "                sheet.cell(row=current_row + 1, column=3).value = str(e5.get())\n",
    "                sheet.cell(row=current_row + 1, column=4).value = str(e6.get())\n",
    "                sheet.cell(row=current_row + 1, column=5).value = str(e7.get())\n",
    "                wb.save('Student_Details.xlsx')\n",
    "                root.destroy()\n",
    "\n",
    "        def photo():\n",
    "\n",
    "            def is_number(s):\n",
    "                try:\n",
    "                    float(s)\n",
    "                    return True\n",
    "                except ValueError:\n",
    "                    pass\n",
    "                try:\n",
    "                    import unicodedata\n",
    "                    unicodedata.numeric(s)\n",
    "                    return True\n",
    "                except (TypeError, ValueError):\n",
    "                    pass\n",
    "                return False\n",
    "\n",
    "\n",
    "            name=e4.get()\n",
    "            roll=e3.get()\n",
    "            if (is_number(roll) and name.isalpha()):\n",
    "                cam=cv2.VideoCapture(0)\n",
    "                harcascadePath=\"haarcascade_frontalface_default.xml\"\n",
    "                detector=cv2.CascadeClassifier(harcascadePath)\n",
    "                sampleNum=0\n",
    "                while(True):\n",
    "                    ret, img=cam.read()\n",
    "                    gray=cv2.cvtColor(img,cv2.COLOR_BGR2GRAY)\n",
    "                    faces=detector.detectMultiScale(gray,1.3,5)\n",
    "                    for (x,y,w,h) in faces:\n",
    "                        cv2.rectangle(img,(x,y),(x+w,y+h),(255,0,0),2)\n",
    "                        sampleNum=sampleNum+1\n",
    "                        cv2.imwrite(\"TrainingImage\\ \"+name+\".\"+roll+'.'+str(sampleNum)+\".jpg\",gray[y:y+h,x:x+w])\n",
    "                        cv2.imshow('frame',img)\n",
    "                    if cv2.waitKey(100) & 0xFF == ord('q'):\n",
    "                        break\n",
    "                    elif sampleNum>60:\n",
    "                        break\n",
    "                cam.release()\n",
    "                cv2.destroyAllWindows()\n",
    "                res=\"Images Saved for Roll no. : \"+roll+\" Name: \"+name\n",
    "                row=str([roll,name])\n",
    "\n",
    "                current_row = sheet.max_row \n",
    "                current_column = sheet.max_column\n",
    "                sheet.cell(row=current_row, column=6).value = row\n",
    "                wb.save('Student_Details.xlsx')\n",
    "\n",
    "                messagebox.showinfo(\"Hurray!!\",res)\n",
    "                \n",
    "            else:\n",
    "                if(is_number(roll)):\n",
    "                    res = \"Enter Alphabetical Name\"\n",
    "                    messagebox.showerror(\"Warning!!\",res)\n",
    "                if(name.isalpha()):\n",
    "                    res = \"Enter Numeric Id\"\n",
    "                    messagebox.showerror(\"Warning!!\",res)\n",
    "\n",
    "        def back_fun():\n",
    "                    root.destroy()\n",
    "            \n",
    "        top.destroy()\n",
    "        root = Tk()\n",
    "        root.geometry(\"500x250\")\n",
    "        root.title(\"Biometric Attendance\")\n",
    "        C = Canvas(root,bg=\"#CCFFFF\", height=500, width=500)\n",
    "        C.place(x=0,y=0)\n",
    "\n",
    "        l9=Label(root,text=\"REGISTRATION FORM\",bg=\"#CCFFFF\",pady=10)\n",
    "        l9.grid(row=1,column=3)\n",
    "        \n",
    "        l3=Label(root,text=\"Roll No. :\",bg=\"#CCFFFF\")\n",
    "        l3.grid(row=2,column=2)\n",
    "        e3=Entry(root,bd=1)\n",
    "        e3.grid(row=2,column=3)\n",
    "\n",
    "        l4=Label(root,text=\"Name :\",bg=\"#CCFFFF\")\n",
    "        l4.grid(row=3,column=2)\n",
    "        e4=Entry(root,bd=1)\n",
    "        e4.grid(row=3,column=3)\n",
    "\n",
    "        l5=Label(root,text=\"Class :\",bg=\"#CCFFFF\")\n",
    "        l5.grid(row=4,column=2)\n",
    "        e5=Entry(root,bd=1)\n",
    "        e5.grid(row=4,column=3)\n",
    "\n",
    "        l6=Label(root,text=\"Section :\",bg=\"#CCFFFF\")\n",
    "        l6.grid(row=5,column=2)\n",
    "        e6=Entry(root,bd=1)\n",
    "        e6.grid(row=5,column=3)\n",
    "\n",
    "        l7=Label(root,text=\"Mobile no. :\",bg=\"#CCFFFF\")\n",
    "        l7.grid(row=6,column=2)\n",
    "        e7=Entry(root,bd=1)\n",
    "        e7.grid(row=6,column=3)\n",
    "        \n",
    "        \n",
    "        back=Button(root,text=\"Back\", bg='#FF0066',width=5,command=back_fun,relief=RAISED)\n",
    "        back.grid(row=1,column=1)\n",
    "        \n",
    "        bpic=Button(root,text=\"Take photo\",bg='orange',width=15,command=photo, relief=RAISED)\n",
    "        bpic.grid(row=7,column=3)\n",
    "        bsub=Button(root,text=\"Register\",bg='#00FF00',width=15,command=submit, relief=RAISED, state=ACTIVE)\n",
    "        bsub.grid(row=8,column=5)\n",
    "        \n",
    "    ans=messagebox.askyesno(\"Alert!!\",\"Are you sure to Register new person?\")\n",
    "    if ans==True:\n",
    "        register_final()\n"
   ]
  },
  {
   "cell_type": "markdown",
   "metadata": {},
   "source": [
    "### Attendance Function"
   ]
  },
  {
   "cell_type": "code",
   "execution_count": 4,
   "metadata": {},
   "outputs": [],
   "source": [
    "def take_att():\n",
    "    def att_final():\n",
    "        pass\n",
    "    ans=messagebox.askyesno(\"Alert!!\",\"Are you sure to take your Attendance?\")\n",
    "    if ans==True:\n",
    "        att_final()"
   ]
  },
  {
   "cell_type": "markdown",
   "metadata": {},
   "source": [
    "### Layout"
   ]
  },
  {
   "cell_type": "code",
   "execution_count": 5,
   "metadata": {},
   "outputs": [],
   "source": [
    "\n",
    "l1=Label(top,text=\"BIOMETRIC ATTENDANCE\",bg=\"#CCFFFF\",pady=10)\n",
    "l1.grid(row=1,column=3)\n",
    "\n",
    "\n",
    "l2=Label(top,text=\"Roll No. :\",bg=\"#CCFFFF\")\n",
    "l2.grid(row=3,column=2)\n",
    "e1=Entry(top,bd=1)\n",
    "e1.grid(row=3,column=3)\n",
    "\n",
    "l8=Label(top,text=\"Name :\",bg=\"#CCFFFF\")\n",
    "l8.grid(row=4,column=2)\n",
    "e2=Entry(top,bd=1)\n",
    "e2.grid(row=4,column=3)\n",
    "\n",
    "batt=Button(top,text=\"Take \\nAttendance\",bg='#00FF00',width=15,command=take_att, relief=RAISED)\n",
    "batt.grid(row=5,column=4)\n",
    "breg=Button(top,text=\"Register \\nNew Person\",bg='orange',width=15,command=register,  relief=RAISED,)\n",
    "breg.grid(row=5,column=5)\n"
   ]
  },
  {
   "cell_type": "markdown",
   "metadata": {},
   "source": [
    "### Excel function"
   ]
  },
  {
   "cell_type": "code",
   "execution_count": 6,
   "metadata": {},
   "outputs": [],
   "source": [
    "def excel(): \n",
    "    sheet.column_dimensions['A'].width = 15\n",
    "    sheet.column_dimensions['B'].width = 20\n",
    "    sheet.column_dimensions['C'].width = 20\n",
    "    sheet.column_dimensions['D'].width = 8\n",
    "    sheet.column_dimensions['E'].width =15\n",
    "    sheet.column_dimensions['F'].width =50\n",
    "    \n",
    "    sheet.cell(row=1, column=1).value = \"Roll No.\"\n",
    "    sheet.cell(row=1, column=2).value = \"Name\"\n",
    "    sheet.cell(row=1, column=3).value = \"Class\"\n",
    "    sheet.cell(row=1, column=4).value = \"Section\"\n",
    "    sheet.cell(row=1, column=5).value = \"Mobile no.\"\n",
    "    sheet.cell(row=1, column=6).value = \"Photo\"\n",
    "\n"
   ]
  },
  {
   "cell_type": "markdown",
   "metadata": {},
   "source": [
    "### Main Call"
   ]
  },
  {
   "cell_type": "code",
   "execution_count": 7,
   "metadata": {},
   "outputs": [],
   "source": [
    "excel()\n",
    "top.mainloop()"
   ]
  },
  {
   "cell_type": "markdown",
   "metadata": {},
   "source": []
  }
 ],
 "metadata": {
  "kernelspec": {
   "display_name": "Python 3",
   "language": "python",
   "name": "python3"
  },
  "language_info": {
   "codemirror_mode": {
    "name": "ipython",
    "version": 3
   },
   "file_extension": ".py",
   "mimetype": "text/x-python",
   "name": "python",
   "nbconvert_exporter": "python",
   "pygments_lexer": "ipython3",
   "version": "3.7.4"
  }
 },
 "nbformat": 4,
 "nbformat_minor": 4
}
